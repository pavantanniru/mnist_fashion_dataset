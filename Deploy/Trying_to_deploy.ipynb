{
  "nbformat": 4,
  "nbformat_minor": 0,
  "metadata": {
    "colab": {
      "name": "Trying_to_deploy.ipynb",
      "provenance": []
    },
    "kernelspec": {
      "name": "python3",
      "display_name": "Python 3"
    }
  },
  "cells": [
    {
      "cell_type": "code",
      "metadata": {
        "id": "wGaoq-yKaoQ0"
      },
      "source": [
        "import pandas as pd\r\n",
        "import numpy as np\r\n"
      ],
      "execution_count": 1,
      "outputs": []
    },
    {
      "cell_type": "code",
      "metadata": {
        "id": "Xw9iSXRaavmQ"
      },
      "source": [
        "import matplotlib.pyplot as plt\r\n",
        "import seaborn as sns\r\n"
      ],
      "execution_count": 3,
      "outputs": []
    },
    {
      "cell_type": "code",
      "metadata": {
        "colab": {
          "base_uri": "https://localhost:8080/",
          "height": 195
        },
        "id": "sHwN9-7Ra2Wc",
        "outputId": "aebcb3f7-b458-4a57-bb9d-045e241f7193"
      },
      "source": [
        "df = pd.read_csv('iris.csv')\r\n",
        "df.head()"
      ],
      "execution_count": 4,
      "outputs": [
        {
          "output_type": "execute_result",
          "data": {
            "text/html": [
              "<div>\n",
              "<style scoped>\n",
              "    .dataframe tbody tr th:only-of-type {\n",
              "        vertical-align: middle;\n",
              "    }\n",
              "\n",
              "    .dataframe tbody tr th {\n",
              "        vertical-align: top;\n",
              "    }\n",
              "\n",
              "    .dataframe thead th {\n",
              "        text-align: right;\n",
              "    }\n",
              "</style>\n",
              "<table border=\"1\" class=\"dataframe\">\n",
              "  <thead>\n",
              "    <tr style=\"text-align: right;\">\n",
              "      <th></th>\n",
              "      <th>sepal_length</th>\n",
              "      <th>sepal_width</th>\n",
              "      <th>petal_length</th>\n",
              "      <th>petal_width</th>\n",
              "      <th>species</th>\n",
              "    </tr>\n",
              "  </thead>\n",
              "  <tbody>\n",
              "    <tr>\n",
              "      <th>0</th>\n",
              "      <td>5.1</td>\n",
              "      <td>3.5</td>\n",
              "      <td>1.4</td>\n",
              "      <td>0.2</td>\n",
              "      <td>setosa</td>\n",
              "    </tr>\n",
              "    <tr>\n",
              "      <th>1</th>\n",
              "      <td>4.9</td>\n",
              "      <td>3.0</td>\n",
              "      <td>1.4</td>\n",
              "      <td>0.2</td>\n",
              "      <td>setosa</td>\n",
              "    </tr>\n",
              "    <tr>\n",
              "      <th>2</th>\n",
              "      <td>4.7</td>\n",
              "      <td>3.2</td>\n",
              "      <td>1.3</td>\n",
              "      <td>0.2</td>\n",
              "      <td>setosa</td>\n",
              "    </tr>\n",
              "    <tr>\n",
              "      <th>3</th>\n",
              "      <td>4.6</td>\n",
              "      <td>3.1</td>\n",
              "      <td>1.5</td>\n",
              "      <td>0.2</td>\n",
              "      <td>setosa</td>\n",
              "    </tr>\n",
              "    <tr>\n",
              "      <th>4</th>\n",
              "      <td>5.0</td>\n",
              "      <td>3.6</td>\n",
              "      <td>1.4</td>\n",
              "      <td>0.2</td>\n",
              "      <td>setosa</td>\n",
              "    </tr>\n",
              "  </tbody>\n",
              "</table>\n",
              "</div>"
            ],
            "text/plain": [
              "   sepal_length  sepal_width  petal_length  petal_width species\n",
              "0           5.1          3.5           1.4          0.2  setosa\n",
              "1           4.9          3.0           1.4          0.2  setosa\n",
              "2           4.7          3.2           1.3          0.2  setosa\n",
              "3           4.6          3.1           1.5          0.2  setosa\n",
              "4           5.0          3.6           1.4          0.2  setosa"
            ]
          },
          "metadata": {
            "tags": []
          },
          "execution_count": 4
        }
      ]
    },
    {
      "cell_type": "code",
      "metadata": {
        "colab": {
          "base_uri": "https://localhost:8080/"
        },
        "id": "stSonBTJa-vm",
        "outputId": "bf953d27-db03-4d15-c03d-9db5d6acdcfc"
      },
      "source": [
        "df.info()"
      ],
      "execution_count": 5,
      "outputs": [
        {
          "output_type": "stream",
          "text": [
            "<class 'pandas.core.frame.DataFrame'>\n",
            "RangeIndex: 150 entries, 0 to 149\n",
            "Data columns (total 5 columns):\n",
            " #   Column        Non-Null Count  Dtype  \n",
            "---  ------        --------------  -----  \n",
            " 0   sepal_length  150 non-null    float64\n",
            " 1   sepal_width   150 non-null    float64\n",
            " 2   petal_length  150 non-null    float64\n",
            " 3   petal_width   150 non-null    float64\n",
            " 4   species       150 non-null    object \n",
            "dtypes: float64(4), object(1)\n",
            "memory usage: 6.0+ KB\n"
          ],
          "name": "stdout"
        }
      ]
    },
    {
      "cell_type": "code",
      "metadata": {
        "colab": {
          "base_uri": "https://localhost:8080/"
        },
        "id": "ASUx_1Fha_-b",
        "outputId": "d70ded8e-3cb2-4ec6-ff84-7e5e6eab8223"
      },
      "source": [
        "df.isnull().sum()"
      ],
      "execution_count": 6,
      "outputs": [
        {
          "output_type": "execute_result",
          "data": {
            "text/plain": [
              "sepal_length    0\n",
              "sepal_width     0\n",
              "petal_length    0\n",
              "petal_width     0\n",
              "species         0\n",
              "dtype: int64"
            ]
          },
          "metadata": {
            "tags": []
          },
          "execution_count": 6
        }
      ]
    },
    {
      "cell_type": "code",
      "metadata": {
        "id": "yaQt6u1nmbsf"
      },
      "source": [
        "y = df['species']\r\n"
      ],
      "execution_count": 16,
      "outputs": []
    },
    {
      "cell_type": "code",
      "metadata": {
        "colab": {
          "base_uri": "https://localhost:8080/"
        },
        "id": "CEgsW3cbbBrY",
        "outputId": "97105df1-176c-4a5f-9470-435e18d8b29f"
      },
      "source": [
        "df['species'].unique()"
      ],
      "execution_count": 7,
      "outputs": [
        {
          "output_type": "execute_result",
          "data": {
            "text/plain": [
              "array(['setosa', 'versicolor', 'virginica'], dtype=object)"
            ]
          },
          "metadata": {
            "tags": []
          },
          "execution_count": 7
        }
      ]
    },
    {
      "cell_type": "code",
      "metadata": {
        "id": "oxOohbxbmQx3"
      },
      "source": [
        "X = df.drop('species',axis=1).values\r\n"
      ],
      "execution_count": 14,
      "outputs": []
    },
    {
      "cell_type": "code",
      "metadata": {
        "id": "-6ZAZjfbbRpb"
      },
      "source": [
        "from sklearn.preprocessing import LabelBinarizer"
      ],
      "execution_count": 9,
      "outputs": []
    },
    {
      "cell_type": "code",
      "metadata": {
        "id": "OxN82BBNbYCQ"
      },
      "source": [
        "encoder = LabelBinarizer()"
      ],
      "execution_count": 17,
      "outputs": []
    },
    {
      "cell_type": "code",
      "metadata": {
        "id": "QBeMhZbUbaB0"
      },
      "source": [
        "y = encoder.fit_transform(y)"
      ],
      "execution_count": 18,
      "outputs": []
    },
    {
      "cell_type": "code",
      "metadata": {
        "id": "u1l58TBFbfdo"
      },
      "source": [
        ""
      ],
      "execution_count": 19,
      "outputs": []
    },
    {
      "cell_type": "code",
      "metadata": {
        "colab": {
          "base_uri": "https://localhost:8080/"
        },
        "id": "5s_-vfDQbmL9",
        "outputId": "483c7e6f-6a1a-4fe3-ae5d-0901758e6535"
      },
      "source": [
        "X = df.drop('species',axis=1).values\r\n",
        "X"
      ],
      "execution_count": null,
      "outputs": [
        {
          "output_type": "execute_result",
          "data": {
            "text/plain": [
              "array([[5.1, 3.5, 1.4, 0.2],\n",
              "       [4.9, 3. , 1.4, 0.2],\n",
              "       [4.7, 3.2, 1.3, 0.2],\n",
              "       [4.6, 3.1, 1.5, 0.2],\n",
              "       [5. , 3.6, 1.4, 0.2],\n",
              "       [5.4, 3.9, 1.7, 0.4],\n",
              "       [4.6, 3.4, 1.4, 0.3],\n",
              "       [5. , 3.4, 1.5, 0.2],\n",
              "       [4.4, 2.9, 1.4, 0.2],\n",
              "       [4.9, 3.1, 1.5, 0.1],\n",
              "       [5.4, 3.7, 1.5, 0.2],\n",
              "       [4.8, 3.4, 1.6, 0.2],\n",
              "       [4.8, 3. , 1.4, 0.1],\n",
              "       [4.3, 3. , 1.1, 0.1],\n",
              "       [5.8, 4. , 1.2, 0.2],\n",
              "       [5.7, 4.4, 1.5, 0.4],\n",
              "       [5.4, 3.9, 1.3, 0.4],\n",
              "       [5.1, 3.5, 1.4, 0.3],\n",
              "       [5.7, 3.8, 1.7, 0.3],\n",
              "       [5.1, 3.8, 1.5, 0.3],\n",
              "       [5.4, 3.4, 1.7, 0.2],\n",
              "       [5.1, 3.7, 1.5, 0.4],\n",
              "       [4.6, 3.6, 1. , 0.2],\n",
              "       [5.1, 3.3, 1.7, 0.5],\n",
              "       [4.8, 3.4, 1.9, 0.2],\n",
              "       [5. , 3. , 1.6, 0.2],\n",
              "       [5. , 3.4, 1.6, 0.4],\n",
              "       [5.2, 3.5, 1.5, 0.2],\n",
              "       [5.2, 3.4, 1.4, 0.2],\n",
              "       [4.7, 3.2, 1.6, 0.2],\n",
              "       [4.8, 3.1, 1.6, 0.2],\n",
              "       [5.4, 3.4, 1.5, 0.4],\n",
              "       [5.2, 4.1, 1.5, 0.1],\n",
              "       [5.5, 4.2, 1.4, 0.2],\n",
              "       [4.9, 3.1, 1.5, 0.2],\n",
              "       [5. , 3.2, 1.2, 0.2],\n",
              "       [5.5, 3.5, 1.3, 0.2],\n",
              "       [4.9, 3.6, 1.4, 0.1],\n",
              "       [4.4, 3. , 1.3, 0.2],\n",
              "       [5.1, 3.4, 1.5, 0.2],\n",
              "       [5. , 3.5, 1.3, 0.3],\n",
              "       [4.5, 2.3, 1.3, 0.3],\n",
              "       [4.4, 3.2, 1.3, 0.2],\n",
              "       [5. , 3.5, 1.6, 0.6],\n",
              "       [5.1, 3.8, 1.9, 0.4],\n",
              "       [4.8, 3. , 1.4, 0.3],\n",
              "       [5.1, 3.8, 1.6, 0.2],\n",
              "       [4.6, 3.2, 1.4, 0.2],\n",
              "       [5.3, 3.7, 1.5, 0.2],\n",
              "       [5. , 3.3, 1.4, 0.2],\n",
              "       [7. , 3.2, 4.7, 1.4],\n",
              "       [6.4, 3.2, 4.5, 1.5],\n",
              "       [6.9, 3.1, 4.9, 1.5],\n",
              "       [5.5, 2.3, 4. , 1.3],\n",
              "       [6.5, 2.8, 4.6, 1.5],\n",
              "       [5.7, 2.8, 4.5, 1.3],\n",
              "       [6.3, 3.3, 4.7, 1.6],\n",
              "       [4.9, 2.4, 3.3, 1. ],\n",
              "       [6.6, 2.9, 4.6, 1.3],\n",
              "       [5.2, 2.7, 3.9, 1.4],\n",
              "       [5. , 2. , 3.5, 1. ],\n",
              "       [5.9, 3. , 4.2, 1.5],\n",
              "       [6. , 2.2, 4. , 1. ],\n",
              "       [6.1, 2.9, 4.7, 1.4],\n",
              "       [5.6, 2.9, 3.6, 1.3],\n",
              "       [6.7, 3.1, 4.4, 1.4],\n",
              "       [5.6, 3. , 4.5, 1.5],\n",
              "       [5.8, 2.7, 4.1, 1. ],\n",
              "       [6.2, 2.2, 4.5, 1.5],\n",
              "       [5.6, 2.5, 3.9, 1.1],\n",
              "       [5.9, 3.2, 4.8, 1.8],\n",
              "       [6.1, 2.8, 4. , 1.3],\n",
              "       [6.3, 2.5, 4.9, 1.5],\n",
              "       [6.1, 2.8, 4.7, 1.2],\n",
              "       [6.4, 2.9, 4.3, 1.3],\n",
              "       [6.6, 3. , 4.4, 1.4],\n",
              "       [6.8, 2.8, 4.8, 1.4],\n",
              "       [6.7, 3. , 5. , 1.7],\n",
              "       [6. , 2.9, 4.5, 1.5],\n",
              "       [5.7, 2.6, 3.5, 1. ],\n",
              "       [5.5, 2.4, 3.8, 1.1],\n",
              "       [5.5, 2.4, 3.7, 1. ],\n",
              "       [5.8, 2.7, 3.9, 1.2],\n",
              "       [6. , 2.7, 5.1, 1.6],\n",
              "       [5.4, 3. , 4.5, 1.5],\n",
              "       [6. , 3.4, 4.5, 1.6],\n",
              "       [6.7, 3.1, 4.7, 1.5],\n",
              "       [6.3, 2.3, 4.4, 1.3],\n",
              "       [5.6, 3. , 4.1, 1.3],\n",
              "       [5.5, 2.5, 4. , 1.3],\n",
              "       [5.5, 2.6, 4.4, 1.2],\n",
              "       [6.1, 3. , 4.6, 1.4],\n",
              "       [5.8, 2.6, 4. , 1.2],\n",
              "       [5. , 2.3, 3.3, 1. ],\n",
              "       [5.6, 2.7, 4.2, 1.3],\n",
              "       [5.7, 3. , 4.2, 1.2],\n",
              "       [5.7, 2.9, 4.2, 1.3],\n",
              "       [6.2, 2.9, 4.3, 1.3],\n",
              "       [5.1, 2.5, 3. , 1.1],\n",
              "       [5.7, 2.8, 4.1, 1.3],\n",
              "       [6.3, 3.3, 6. , 2.5],\n",
              "       [5.8, 2.7, 5.1, 1.9],\n",
              "       [7.1, 3. , 5.9, 2.1],\n",
              "       [6.3, 2.9, 5.6, 1.8],\n",
              "       [6.5, 3. , 5.8, 2.2],\n",
              "       [7.6, 3. , 6.6, 2.1],\n",
              "       [4.9, 2.5, 4.5, 1.7],\n",
              "       [7.3, 2.9, 6.3, 1.8],\n",
              "       [6.7, 2.5, 5.8, 1.8],\n",
              "       [7.2, 3.6, 6.1, 2.5],\n",
              "       [6.5, 3.2, 5.1, 2. ],\n",
              "       [6.4, 2.7, 5.3, 1.9],\n",
              "       [6.8, 3. , 5.5, 2.1],\n",
              "       [5.7, 2.5, 5. , 2. ],\n",
              "       [5.8, 2.8, 5.1, 2.4],\n",
              "       [6.4, 3.2, 5.3, 2.3],\n",
              "       [6.5, 3. , 5.5, 1.8],\n",
              "       [7.7, 3.8, 6.7, 2.2],\n",
              "       [7.7, 2.6, 6.9, 2.3],\n",
              "       [6. , 2.2, 5. , 1.5],\n",
              "       [6.9, 3.2, 5.7, 2.3],\n",
              "       [5.6, 2.8, 4.9, 2. ],\n",
              "       [7.7, 2.8, 6.7, 2. ],\n",
              "       [6.3, 2.7, 4.9, 1.8],\n",
              "       [6.7, 3.3, 5.7, 2.1],\n",
              "       [7.2, 3.2, 6. , 1.8],\n",
              "       [6.2, 2.8, 4.8, 1.8],\n",
              "       [6.1, 3. , 4.9, 1.8],\n",
              "       [6.4, 2.8, 5.6, 2.1],\n",
              "       [7.2, 3. , 5.8, 1.6],\n",
              "       [7.4, 2.8, 6.1, 1.9],\n",
              "       [7.9, 3.8, 6.4, 2. ],\n",
              "       [6.4, 2.8, 5.6, 2.2],\n",
              "       [6.3, 2.8, 5.1, 1.5],\n",
              "       [6.1, 2.6, 5.6, 1.4],\n",
              "       [7.7, 3. , 6.1, 2.3],\n",
              "       [6.3, 3.4, 5.6, 2.4],\n",
              "       [6.4, 3.1, 5.5, 1.8],\n",
              "       [6. , 3. , 4.8, 1.8],\n",
              "       [6.9, 3.1, 5.4, 2.1],\n",
              "       [6.7, 3.1, 5.6, 2.4],\n",
              "       [6.9, 3.1, 5.1, 2.3],\n",
              "       [5.8, 2.7, 5.1, 1.9],\n",
              "       [6.8, 3.2, 5.9, 2.3],\n",
              "       [6.7, 3.3, 5.7, 2.5],\n",
              "       [6.7, 3. , 5.2, 2.3],\n",
              "       [6.3, 2.5, 5. , 1.9],\n",
              "       [6.5, 3. , 5.2, 2. ],\n",
              "       [6.2, 3.4, 5.4, 2.3],\n",
              "       [5.9, 3. , 5.1, 1.8]])"
            ]
          },
          "metadata": {
            "tags": []
          },
          "execution_count": 45
        }
      ]
    },
    {
      "cell_type": "code",
      "metadata": {
        "id": "gYY75LZCbuZf"
      },
      "source": [
        "y = df['species'].values\r\n"
      ],
      "execution_count": null,
      "outputs": []
    },
    {
      "cell_type": "code",
      "metadata": {
        "colab": {
          "base_uri": "https://localhost:8080/"
        },
        "id": "XynLdulrbu8K",
        "outputId": "dc83561b-7993-4c7a-ce00-3dc48dab9240"
      },
      "source": [
        "y"
      ],
      "execution_count": null,
      "outputs": [
        {
          "output_type": "execute_result",
          "data": {
            "text/plain": [
              "array([0, 0, 0, 0, 0, 0, 0, 0, 0, 0, 0, 0, 0, 0, 0, 0, 0, 0, 0, 0, 0, 0,\n",
              "       0, 0, 0, 0, 0, 0, 0, 0, 0, 0, 0, 0, 0, 0, 0, 0, 0, 0, 0, 0, 0, 0,\n",
              "       0, 0, 0, 0, 0, 0, 1, 1, 1, 1, 1, 1, 1, 1, 1, 1, 1, 1, 1, 1, 1, 1,\n",
              "       1, 1, 1, 1, 1, 1, 1, 1, 1, 1, 1, 1, 1, 1, 1, 1, 1, 1, 1, 1, 1, 1,\n",
              "       1, 1, 1, 1, 1, 1, 1, 1, 1, 1, 1, 1, 2, 2, 2, 2, 2, 2, 2, 2, 2, 2,\n",
              "       2, 2, 2, 2, 2, 2, 2, 2, 2, 2, 2, 2, 2, 2, 2, 2, 2, 2, 2, 2, 2, 2,\n",
              "       2, 2, 2, 2, 2, 2, 2, 2, 2, 2, 2, 2, 2, 2, 2, 2, 2, 2])"
            ]
          },
          "metadata": {
            "tags": []
          },
          "execution_count": 23
        }
      ]
    },
    {
      "cell_type": "code",
      "metadata": {
        "id": "fktto43Ob4iV"
      },
      "source": [
        "from sklearn.model_selection import train_test_split"
      ],
      "execution_count": 21,
      "outputs": []
    },
    {
      "cell_type": "code",
      "metadata": {
        "id": "vf3fAvbnb90T"
      },
      "source": [
        "X_train, X_test, y_train, y_test = train_test_split(X, y, test_size=0.20, random_state=101)"
      ],
      "execution_count": 22,
      "outputs": []
    },
    {
      "cell_type": "code",
      "metadata": {
        "id": "Ke_X84VHcHA3"
      },
      "source": [
        "from sklearn.preprocessing import MinMaxScaler"
      ],
      "execution_count": 23,
      "outputs": []
    },
    {
      "cell_type": "code",
      "metadata": {
        "id": "4sK3sgqacKEM"
      },
      "source": [
        "scaler = MinMaxScaler()"
      ],
      "execution_count": 24,
      "outputs": []
    },
    {
      "cell_type": "code",
      "metadata": {
        "id": "Wmihl8-ScMjb"
      },
      "source": [
        "scaled_X_train = scaler.fit_transform(X_train)"
      ],
      "execution_count": 25,
      "outputs": []
    },
    {
      "cell_type": "code",
      "metadata": {
        "id": "6TjuG9GmcgOL"
      },
      "source": [
        "scaled_X_test = scaler.transform(X_test)"
      ],
      "execution_count": 26,
      "outputs": []
    },
    {
      "cell_type": "code",
      "metadata": {
        "id": "ukXkraSuco0j"
      },
      "source": [
        "from tensorflow.keras.models import Sequential\r\n",
        "from tensorflow.keras.layers import Dense"
      ],
      "execution_count": 29,
      "outputs": []
    },
    {
      "cell_type": "code",
      "metadata": {
        "id": "ec5-vVhVcvOO"
      },
      "source": [
        "model = Sequential()"
      ],
      "execution_count": 30,
      "outputs": []
    },
    {
      "cell_type": "code",
      "metadata": {
        "id": "lpTzFQOGdEqS"
      },
      "source": [
        "model.add(Dense(units=4,activation='relu',input_shape=[4,]))\r\n",
        "model.add(Dense(units=3,activation='softmax'))\r\n",
        "model.compile(optimizer='adam',loss='categorical_crossentropy',metrics=['accuracy'])"
      ],
      "execution_count": 31,
      "outputs": []
    },
    {
      "cell_type": "code",
      "metadata": {
        "colab": {
          "base_uri": "https://localhost:8080/"
        },
        "id": "A4uEJXIzdlSS",
        "outputId": "69100e99-fc33-4941-8ba3-59729eaa6b5d"
      },
      "source": [
        "a = {'a':44,'b':46}\r\n",
        "a"
      ],
      "execution_count": null,
      "outputs": [
        {
          "output_type": "execute_result",
          "data": {
            "text/plain": [
              "{'a': 44, 'b': 46}"
            ]
          },
          "metadata": {
            "tags": []
          },
          "execution_count": 52
        }
      ]
    },
    {
      "cell_type": "code",
      "metadata": {
        "colab": {
          "base_uri": "https://localhost:8080/"
        },
        "id": "JlaO-dQPdqo5",
        "outputId": "734a478b-9850-4e42-a207-233ca0f5a3ae"
      },
      "source": [
        "a['a']"
      ],
      "execution_count": null,
      "outputs": [
        {
          "output_type": "execute_result",
          "data": {
            "text/plain": [
              "44"
            ]
          },
          "metadata": {
            "tags": []
          },
          "execution_count": 53
        }
      ]
    },
    {
      "cell_type": "code",
      "metadata": {
        "colab": {
          "base_uri": "https://localhost:8080/"
        },
        "id": "olx6uLlPhCJ1",
        "outputId": "0c37614b-a234-4154-9daa-5087020dac7e"
      },
      "source": [
        "a['b']"
      ],
      "execution_count": null,
      "outputs": [
        {
          "output_type": "execute_result",
          "data": {
            "text/plain": [
              "46"
            ]
          },
          "metadata": {
            "tags": []
          },
          "execution_count": 54
        }
      ]
    },
    {
      "cell_type": "code",
      "metadata": {
        "colab": {
          "base_uri": "https://localhost:8080/"
        },
        "id": "UQERu3c0hDe3",
        "outputId": "7c1fb891-4dc5-44b6-f8fa-c78aed1c6c70"
      },
      "source": [
        "le.classes_"
      ],
      "execution_count": null,
      "outputs": [
        {
          "output_type": "execute_result",
          "data": {
            "text/plain": [
              "array(['setosa', 'versicolor', 'virginica'], dtype=object)"
            ]
          },
          "metadata": {
            "tags": []
          },
          "execution_count": 57
        }
      ]
    },
    {
      "cell_type": "code",
      "metadata": {
        "id": "EMhda5MJhGxz"
      },
      "source": [
        "from tensorflow.keras.callbacks import EarlyStopping\r\n"
      ],
      "execution_count": 32,
      "outputs": []
    },
    {
      "cell_type": "code",
      "metadata": {
        "id": "HA9YMhFYnqkR"
      },
      "source": [
        "early_stop = EarlyStopping(patience=10)"
      ],
      "execution_count": 33,
      "outputs": []
    },
    {
      "cell_type": "code",
      "metadata": {
        "colab": {
          "base_uri": "https://localhost:8080/"
        },
        "id": "5tRZXibGnxvh",
        "outputId": "2bfba7d7-b279-4670-dd51-e73315f32370"
      },
      "source": [
        "model.fit(x=scaled_X_train,y=y_train,epochs=300,validation_data=(scaled_X_test,y_test),callbacks=early_stop)"
      ],
      "execution_count": 42,
      "outputs": [
        {
          "output_type": "stream",
          "text": [
            "Epoch 1/300\n",
            "4/4 [==============================] - 0s 28ms/step - loss: 0.5211 - accuracy: 0.8083 - val_loss: 0.5698 - val_accuracy: 0.7667\n",
            "Epoch 2/300\n",
            "4/4 [==============================] - 0s 13ms/step - loss: 0.5201 - accuracy: 0.8083 - val_loss: 0.5690 - val_accuracy: 0.7667\n",
            "Epoch 3/300\n",
            "4/4 [==============================] - 0s 15ms/step - loss: 0.5191 - accuracy: 0.8083 - val_loss: 0.5681 - val_accuracy: 0.7667\n",
            "Epoch 4/300\n",
            "4/4 [==============================] - 0s 14ms/step - loss: 0.5183 - accuracy: 0.8083 - val_loss: 0.5674 - val_accuracy: 0.8000\n",
            "Epoch 5/300\n",
            "4/4 [==============================] - 0s 13ms/step - loss: 0.5173 - accuracy: 0.8083 - val_loss: 0.5663 - val_accuracy: 0.7667\n",
            "Epoch 6/300\n",
            "4/4 [==============================] - 0s 14ms/step - loss: 0.5162 - accuracy: 0.8083 - val_loss: 0.5656 - val_accuracy: 0.8000\n",
            "Epoch 7/300\n",
            "4/4 [==============================] - 0s 13ms/step - loss: 0.5153 - accuracy: 0.8083 - val_loss: 0.5646 - val_accuracy: 0.8000\n",
            "Epoch 8/300\n",
            "4/4 [==============================] - 0s 13ms/step - loss: 0.5144 - accuracy: 0.8083 - val_loss: 0.5637 - val_accuracy: 0.8000\n",
            "Epoch 9/300\n",
            "4/4 [==============================] - 0s 13ms/step - loss: 0.5135 - accuracy: 0.8083 - val_loss: 0.5628 - val_accuracy: 0.8000\n",
            "Epoch 10/300\n",
            "4/4 [==============================] - 0s 12ms/step - loss: 0.5125 - accuracy: 0.8083 - val_loss: 0.5617 - val_accuracy: 0.8000\n",
            "Epoch 11/300\n",
            "4/4 [==============================] - 0s 12ms/step - loss: 0.5115 - accuracy: 0.8083 - val_loss: 0.5605 - val_accuracy: 0.7667\n",
            "Epoch 12/300\n",
            "4/4 [==============================] - 0s 13ms/step - loss: 0.5106 - accuracy: 0.8167 - val_loss: 0.5593 - val_accuracy: 0.7667\n",
            "Epoch 13/300\n",
            "4/4 [==============================] - 0s 55ms/step - loss: 0.5096 - accuracy: 0.8167 - val_loss: 0.5580 - val_accuracy: 0.8000\n",
            "Epoch 14/300\n",
            "4/4 [==============================] - 0s 12ms/step - loss: 0.5088 - accuracy: 0.8250 - val_loss: 0.5569 - val_accuracy: 0.8000\n",
            "Epoch 15/300\n",
            "4/4 [==============================] - 0s 14ms/step - loss: 0.5077 - accuracy: 0.8250 - val_loss: 0.5556 - val_accuracy: 0.8000\n",
            "Epoch 16/300\n",
            "4/4 [==============================] - 0s 16ms/step - loss: 0.5069 - accuracy: 0.8333 - val_loss: 0.5541 - val_accuracy: 0.8000\n",
            "Epoch 17/300\n",
            "4/4 [==============================] - 0s 13ms/step - loss: 0.5061 - accuracy: 0.8333 - val_loss: 0.5529 - val_accuracy: 0.8000\n",
            "Epoch 18/300\n",
            "4/4 [==============================] - 0s 13ms/step - loss: 0.5051 - accuracy: 0.8333 - val_loss: 0.5519 - val_accuracy: 0.8333\n",
            "Epoch 19/300\n",
            "4/4 [==============================] - 0s 13ms/step - loss: 0.5041 - accuracy: 0.8333 - val_loss: 0.5511 - val_accuracy: 0.8000\n",
            "Epoch 20/300\n",
            "4/4 [==============================] - 0s 14ms/step - loss: 0.5033 - accuracy: 0.8333 - val_loss: 0.5506 - val_accuracy: 0.8000\n",
            "Epoch 21/300\n",
            "4/4 [==============================] - 0s 14ms/step - loss: 0.5023 - accuracy: 0.8333 - val_loss: 0.5497 - val_accuracy: 0.8000\n",
            "Epoch 22/300\n",
            "4/4 [==============================] - 0s 13ms/step - loss: 0.5014 - accuracy: 0.8333 - val_loss: 0.5489 - val_accuracy: 0.8000\n",
            "Epoch 23/300\n",
            "4/4 [==============================] - 0s 15ms/step - loss: 0.5006 - accuracy: 0.8333 - val_loss: 0.5482 - val_accuracy: 0.8000\n",
            "Epoch 24/300\n",
            "4/4 [==============================] - 0s 16ms/step - loss: 0.4997 - accuracy: 0.8333 - val_loss: 0.5472 - val_accuracy: 0.8000\n",
            "Epoch 25/300\n",
            "4/4 [==============================] - 0s 15ms/step - loss: 0.4987 - accuracy: 0.8333 - val_loss: 0.5462 - val_accuracy: 0.8000\n",
            "Epoch 26/300\n",
            "4/4 [==============================] - 0s 14ms/step - loss: 0.4980 - accuracy: 0.8333 - val_loss: 0.5451 - val_accuracy: 0.8000\n",
            "Epoch 27/300\n",
            "4/4 [==============================] - 0s 13ms/step - loss: 0.4969 - accuracy: 0.8333 - val_loss: 0.5443 - val_accuracy: 0.8000\n",
            "Epoch 28/300\n",
            "4/4 [==============================] - 0s 14ms/step - loss: 0.4966 - accuracy: 0.8250 - val_loss: 0.5438 - val_accuracy: 0.8000\n",
            "Epoch 29/300\n",
            "4/4 [==============================] - 0s 13ms/step - loss: 0.4952 - accuracy: 0.8250 - val_loss: 0.5427 - val_accuracy: 0.8000\n",
            "Epoch 30/300\n",
            "4/4 [==============================] - 0s 13ms/step - loss: 0.4943 - accuracy: 0.8333 - val_loss: 0.5416 - val_accuracy: 0.8333\n",
            "Epoch 31/300\n",
            "4/4 [==============================] - 0s 14ms/step - loss: 0.4934 - accuracy: 0.8333 - val_loss: 0.5405 - val_accuracy: 0.8333\n",
            "Epoch 32/300\n",
            "4/4 [==============================] - 0s 16ms/step - loss: 0.4927 - accuracy: 0.8333 - val_loss: 0.5393 - val_accuracy: 0.8333\n",
            "Epoch 33/300\n",
            "4/4 [==============================] - 0s 13ms/step - loss: 0.4917 - accuracy: 0.8333 - val_loss: 0.5384 - val_accuracy: 0.8333\n",
            "Epoch 34/300\n",
            "4/4 [==============================] - 0s 14ms/step - loss: 0.4909 - accuracy: 0.8333 - val_loss: 0.5375 - val_accuracy: 0.8333\n",
            "Epoch 35/300\n",
            "4/4 [==============================] - 0s 14ms/step - loss: 0.4900 - accuracy: 0.8333 - val_loss: 0.5364 - val_accuracy: 0.8333\n",
            "Epoch 36/300\n",
            "4/4 [==============================] - 0s 13ms/step - loss: 0.4892 - accuracy: 0.8333 - val_loss: 0.5354 - val_accuracy: 0.8333\n",
            "Epoch 37/300\n",
            "4/4 [==============================] - 0s 14ms/step - loss: 0.4883 - accuracy: 0.8333 - val_loss: 0.5346 - val_accuracy: 0.8333\n",
            "Epoch 38/300\n",
            "4/4 [==============================] - 0s 13ms/step - loss: 0.4875 - accuracy: 0.8333 - val_loss: 0.5338 - val_accuracy: 0.8333\n",
            "Epoch 39/300\n",
            "4/4 [==============================] - 0s 15ms/step - loss: 0.4866 - accuracy: 0.8333 - val_loss: 0.5328 - val_accuracy: 0.8333\n",
            "Epoch 40/300\n",
            "4/4 [==============================] - 0s 14ms/step - loss: 0.4859 - accuracy: 0.8333 - val_loss: 0.5316 - val_accuracy: 0.8333\n",
            "Epoch 41/300\n",
            "4/4 [==============================] - 0s 12ms/step - loss: 0.4849 - accuracy: 0.8333 - val_loss: 0.5308 - val_accuracy: 0.8333\n",
            "Epoch 42/300\n",
            "4/4 [==============================] - 0s 14ms/step - loss: 0.4840 - accuracy: 0.8333 - val_loss: 0.5300 - val_accuracy: 0.8333\n",
            "Epoch 43/300\n",
            "4/4 [==============================] - 0s 17ms/step - loss: 0.4831 - accuracy: 0.8333 - val_loss: 0.5290 - val_accuracy: 0.8333\n",
            "Epoch 44/300\n",
            "4/4 [==============================] - 0s 14ms/step - loss: 0.4823 - accuracy: 0.8333 - val_loss: 0.5281 - val_accuracy: 0.8333\n",
            "Epoch 45/300\n",
            "4/4 [==============================] - 0s 14ms/step - loss: 0.4814 - accuracy: 0.8333 - val_loss: 0.5272 - val_accuracy: 0.8333\n",
            "Epoch 46/300\n",
            "4/4 [==============================] - 0s 13ms/step - loss: 0.4807 - accuracy: 0.8333 - val_loss: 0.5262 - val_accuracy: 0.8333\n",
            "Epoch 47/300\n",
            "4/4 [==============================] - 0s 14ms/step - loss: 0.4798 - accuracy: 0.8333 - val_loss: 0.5254 - val_accuracy: 0.8333\n",
            "Epoch 48/300\n",
            "4/4 [==============================] - 0s 14ms/step - loss: 0.4790 - accuracy: 0.8333 - val_loss: 0.5248 - val_accuracy: 0.8333\n",
            "Epoch 49/300\n",
            "4/4 [==============================] - 0s 16ms/step - loss: 0.4781 - accuracy: 0.8333 - val_loss: 0.5240 - val_accuracy: 0.8333\n",
            "Epoch 50/300\n",
            "4/4 [==============================] - 0s 14ms/step - loss: 0.4773 - accuracy: 0.8333 - val_loss: 0.5230 - val_accuracy: 0.8333\n",
            "Epoch 51/300\n",
            "4/4 [==============================] - 0s 15ms/step - loss: 0.4766 - accuracy: 0.8333 - val_loss: 0.5224 - val_accuracy: 0.8333\n",
            "Epoch 52/300\n",
            "4/4 [==============================] - 0s 14ms/step - loss: 0.4756 - accuracy: 0.8333 - val_loss: 0.5214 - val_accuracy: 0.8333\n",
            "Epoch 53/300\n",
            "4/4 [==============================] - 0s 12ms/step - loss: 0.4747 - accuracy: 0.8333 - val_loss: 0.5204 - val_accuracy: 0.8333\n",
            "Epoch 54/300\n",
            "4/4 [==============================] - 0s 13ms/step - loss: 0.4739 - accuracy: 0.8333 - val_loss: 0.5195 - val_accuracy: 0.8333\n",
            "Epoch 55/300\n",
            "4/4 [==============================] - 0s 14ms/step - loss: 0.4731 - accuracy: 0.8333 - val_loss: 0.5187 - val_accuracy: 0.8333\n",
            "Epoch 56/300\n",
            "4/4 [==============================] - 0s 15ms/step - loss: 0.4723 - accuracy: 0.8333 - val_loss: 0.5179 - val_accuracy: 0.8333\n",
            "Epoch 57/300\n",
            "4/4 [==============================] - 0s 14ms/step - loss: 0.4715 - accuracy: 0.8333 - val_loss: 0.5171 - val_accuracy: 0.8333\n",
            "Epoch 58/300\n",
            "4/4 [==============================] - 0s 13ms/step - loss: 0.4705 - accuracy: 0.8333 - val_loss: 0.5161 - val_accuracy: 0.8333\n",
            "Epoch 59/300\n",
            "4/4 [==============================] - 0s 13ms/step - loss: 0.4698 - accuracy: 0.8333 - val_loss: 0.5150 - val_accuracy: 0.8667\n",
            "Epoch 60/300\n",
            "4/4 [==============================] - 0s 13ms/step - loss: 0.4689 - accuracy: 0.8333 - val_loss: 0.5140 - val_accuracy: 0.8667\n",
            "Epoch 61/300\n",
            "4/4 [==============================] - 0s 14ms/step - loss: 0.4681 - accuracy: 0.8333 - val_loss: 0.5130 - val_accuracy: 0.8667\n",
            "Epoch 62/300\n",
            "4/4 [==============================] - 0s 14ms/step - loss: 0.4673 - accuracy: 0.8333 - val_loss: 0.5120 - val_accuracy: 0.8667\n",
            "Epoch 63/300\n",
            "4/4 [==============================] - 0s 14ms/step - loss: 0.4664 - accuracy: 0.8333 - val_loss: 0.5112 - val_accuracy: 0.8667\n",
            "Epoch 64/300\n",
            "4/4 [==============================] - 0s 16ms/step - loss: 0.4658 - accuracy: 0.8333 - val_loss: 0.5105 - val_accuracy: 0.8667\n",
            "Epoch 65/300\n",
            "4/4 [==============================] - 0s 14ms/step - loss: 0.4648 - accuracy: 0.8333 - val_loss: 0.5094 - val_accuracy: 0.8667\n",
            "Epoch 66/300\n",
            "4/4 [==============================] - 0s 14ms/step - loss: 0.4640 - accuracy: 0.8333 - val_loss: 0.5084 - val_accuracy: 0.8667\n",
            "Epoch 67/300\n",
            "4/4 [==============================] - 0s 15ms/step - loss: 0.4632 - accuracy: 0.8333 - val_loss: 0.5074 - val_accuracy: 0.8667\n",
            "Epoch 68/300\n",
            "4/4 [==============================] - 0s 16ms/step - loss: 0.4628 - accuracy: 0.8333 - val_loss: 0.5064 - val_accuracy: 0.9000\n",
            "Epoch 69/300\n",
            "4/4 [==============================] - 0s 14ms/step - loss: 0.4617 - accuracy: 0.8333 - val_loss: 0.5059 - val_accuracy: 0.8667\n",
            "Epoch 70/300\n",
            "4/4 [==============================] - 0s 14ms/step - loss: 0.4608 - accuracy: 0.8333 - val_loss: 0.5051 - val_accuracy: 0.8667\n",
            "Epoch 71/300\n",
            "4/4 [==============================] - 0s 55ms/step - loss: 0.4600 - accuracy: 0.8333 - val_loss: 0.5046 - val_accuracy: 0.8667\n",
            "Epoch 72/300\n",
            "4/4 [==============================] - 0s 16ms/step - loss: 0.4592 - accuracy: 0.8333 - val_loss: 0.5039 - val_accuracy: 0.8667\n",
            "Epoch 73/300\n",
            "4/4 [==============================] - 0s 16ms/step - loss: 0.4584 - accuracy: 0.8333 - val_loss: 0.5031 - val_accuracy: 0.8667\n",
            "Epoch 74/300\n",
            "4/4 [==============================] - 0s 16ms/step - loss: 0.4577 - accuracy: 0.8333 - val_loss: 0.5024 - val_accuracy: 0.8667\n",
            "Epoch 75/300\n",
            "4/4 [==============================] - 0s 13ms/step - loss: 0.4570 - accuracy: 0.8333 - val_loss: 0.5014 - val_accuracy: 0.8667\n",
            "Epoch 76/300\n",
            "4/4 [==============================] - 0s 14ms/step - loss: 0.4561 - accuracy: 0.8333 - val_loss: 0.5006 - val_accuracy: 0.8667\n",
            "Epoch 77/300\n",
            "4/4 [==============================] - 0s 13ms/step - loss: 0.4557 - accuracy: 0.8333 - val_loss: 0.4994 - val_accuracy: 0.9000\n",
            "Epoch 78/300\n",
            "4/4 [==============================] - 0s 15ms/step - loss: 0.4544 - accuracy: 0.8333 - val_loss: 0.4987 - val_accuracy: 0.9000\n",
            "Epoch 79/300\n",
            "4/4 [==============================] - 0s 12ms/step - loss: 0.4538 - accuracy: 0.8333 - val_loss: 0.4981 - val_accuracy: 0.8667\n",
            "Epoch 80/300\n",
            "4/4 [==============================] - 0s 14ms/step - loss: 0.4529 - accuracy: 0.8333 - val_loss: 0.4972 - val_accuracy: 0.8667\n",
            "Epoch 81/300\n",
            "4/4 [==============================] - 0s 15ms/step - loss: 0.4522 - accuracy: 0.8333 - val_loss: 0.4964 - val_accuracy: 0.9000\n",
            "Epoch 82/300\n",
            "4/4 [==============================] - 0s 17ms/step - loss: 0.4514 - accuracy: 0.8333 - val_loss: 0.4956 - val_accuracy: 0.9000\n",
            "Epoch 83/300\n",
            "4/4 [==============================] - 0s 16ms/step - loss: 0.4506 - accuracy: 0.8333 - val_loss: 0.4947 - val_accuracy: 0.9000\n",
            "Epoch 84/300\n",
            "4/4 [==============================] - 0s 16ms/step - loss: 0.4499 - accuracy: 0.8333 - val_loss: 0.4940 - val_accuracy: 0.9000\n",
            "Epoch 85/300\n",
            "4/4 [==============================] - 0s 14ms/step - loss: 0.4491 - accuracy: 0.8333 - val_loss: 0.4929 - val_accuracy: 0.9000\n",
            "Epoch 86/300\n",
            "4/4 [==============================] - 0s 14ms/step - loss: 0.4482 - accuracy: 0.8333 - val_loss: 0.4919 - val_accuracy: 0.9000\n",
            "Epoch 87/300\n",
            "4/4 [==============================] - 0s 14ms/step - loss: 0.4475 - accuracy: 0.8333 - val_loss: 0.4909 - val_accuracy: 0.9000\n",
            "Epoch 88/300\n",
            "4/4 [==============================] - 0s 13ms/step - loss: 0.4467 - accuracy: 0.8333 - val_loss: 0.4901 - val_accuracy: 0.9000\n",
            "Epoch 89/300\n",
            "4/4 [==============================] - 0s 13ms/step - loss: 0.4460 - accuracy: 0.8333 - val_loss: 0.4894 - val_accuracy: 0.9000\n",
            "Epoch 90/300\n",
            "4/4 [==============================] - 0s 15ms/step - loss: 0.4452 - accuracy: 0.8333 - val_loss: 0.4886 - val_accuracy: 0.9000\n",
            "Epoch 91/300\n",
            "4/4 [==============================] - 0s 14ms/step - loss: 0.4445 - accuracy: 0.8333 - val_loss: 0.4877 - val_accuracy: 0.9000\n",
            "Epoch 92/300\n",
            "4/4 [==============================] - 0s 16ms/step - loss: 0.4437 - accuracy: 0.8333 - val_loss: 0.4870 - val_accuracy: 0.9000\n",
            "Epoch 93/300\n",
            "4/4 [==============================] - 0s 15ms/step - loss: 0.4429 - accuracy: 0.8417 - val_loss: 0.4862 - val_accuracy: 0.9000\n",
            "Epoch 94/300\n",
            "4/4 [==============================] - 0s 14ms/step - loss: 0.4422 - accuracy: 0.8333 - val_loss: 0.4855 - val_accuracy: 0.9000\n",
            "Epoch 95/300\n",
            "4/4 [==============================] - 0s 13ms/step - loss: 0.4414 - accuracy: 0.8333 - val_loss: 0.4847 - val_accuracy: 0.9000\n",
            "Epoch 96/300\n",
            "4/4 [==============================] - 0s 13ms/step - loss: 0.4407 - accuracy: 0.8417 - val_loss: 0.4840 - val_accuracy: 0.9000\n",
            "Epoch 97/300\n",
            "4/4 [==============================] - 0s 16ms/step - loss: 0.4399 - accuracy: 0.8417 - val_loss: 0.4831 - val_accuracy: 0.9000\n",
            "Epoch 98/300\n",
            "4/4 [==============================] - 0s 13ms/step - loss: 0.4392 - accuracy: 0.8417 - val_loss: 0.4823 - val_accuracy: 0.9000\n",
            "Epoch 99/300\n",
            "4/4 [==============================] - 0s 14ms/step - loss: 0.4384 - accuracy: 0.8417 - val_loss: 0.4815 - val_accuracy: 0.9000\n",
            "Epoch 100/300\n",
            "4/4 [==============================] - 0s 14ms/step - loss: 0.4378 - accuracy: 0.8417 - val_loss: 0.4806 - val_accuracy: 0.9000\n",
            "Epoch 101/300\n",
            "4/4 [==============================] - 0s 17ms/step - loss: 0.4369 - accuracy: 0.8417 - val_loss: 0.4798 - val_accuracy: 0.9000\n",
            "Epoch 102/300\n",
            "4/4 [==============================] - 0s 16ms/step - loss: 0.4363 - accuracy: 0.8417 - val_loss: 0.4792 - val_accuracy: 0.9000\n",
            "Epoch 103/300\n",
            "4/4 [==============================] - 0s 16ms/step - loss: 0.4356 - accuracy: 0.8417 - val_loss: 0.4785 - val_accuracy: 0.9000\n",
            "Epoch 104/300\n",
            "4/4 [==============================] - 0s 14ms/step - loss: 0.4348 - accuracy: 0.8500 - val_loss: 0.4775 - val_accuracy: 0.9000\n",
            "Epoch 105/300\n",
            "4/4 [==============================] - 0s 17ms/step - loss: 0.4340 - accuracy: 0.8500 - val_loss: 0.4766 - val_accuracy: 0.9000\n",
            "Epoch 106/300\n",
            "4/4 [==============================] - 0s 14ms/step - loss: 0.4333 - accuracy: 0.8500 - val_loss: 0.4758 - val_accuracy: 0.9000\n",
            "Epoch 107/300\n",
            "4/4 [==============================] - 0s 14ms/step - loss: 0.4325 - accuracy: 0.8500 - val_loss: 0.4748 - val_accuracy: 0.9000\n",
            "Epoch 108/300\n",
            "4/4 [==============================] - 0s 15ms/step - loss: 0.4318 - accuracy: 0.8583 - val_loss: 0.4739 - val_accuracy: 0.9000\n",
            "Epoch 109/300\n",
            "4/4 [==============================] - 0s 15ms/step - loss: 0.4311 - accuracy: 0.8583 - val_loss: 0.4730 - val_accuracy: 0.9000\n",
            "Epoch 110/300\n",
            "4/4 [==============================] - 0s 14ms/step - loss: 0.4304 - accuracy: 0.8583 - val_loss: 0.4723 - val_accuracy: 0.9000\n",
            "Epoch 111/300\n",
            "4/4 [==============================] - 0s 14ms/step - loss: 0.4296 - accuracy: 0.8583 - val_loss: 0.4715 - val_accuracy: 0.9000\n",
            "Epoch 112/300\n",
            "4/4 [==============================] - 0s 14ms/step - loss: 0.4290 - accuracy: 0.8667 - val_loss: 0.4705 - val_accuracy: 0.9000\n",
            "Epoch 113/300\n",
            "4/4 [==============================] - 0s 13ms/step - loss: 0.4282 - accuracy: 0.8667 - val_loss: 0.4699 - val_accuracy: 0.9000\n",
            "Epoch 114/300\n",
            "4/4 [==============================] - 0s 13ms/step - loss: 0.4274 - accuracy: 0.8667 - val_loss: 0.4690 - val_accuracy: 0.9000\n",
            "Epoch 115/300\n",
            "4/4 [==============================] - 0s 14ms/step - loss: 0.4268 - accuracy: 0.8667 - val_loss: 0.4684 - val_accuracy: 0.9000\n",
            "Epoch 116/300\n",
            "4/4 [==============================] - 0s 15ms/step - loss: 0.4260 - accuracy: 0.8667 - val_loss: 0.4676 - val_accuracy: 0.9000\n",
            "Epoch 117/300\n",
            "4/4 [==============================] - 0s 14ms/step - loss: 0.4253 - accuracy: 0.8667 - val_loss: 0.4667 - val_accuracy: 0.9000\n",
            "Epoch 118/300\n",
            "4/4 [==============================] - 0s 14ms/step - loss: 0.4245 - accuracy: 0.8667 - val_loss: 0.4659 - val_accuracy: 0.9000\n",
            "Epoch 119/300\n",
            "4/4 [==============================] - 0s 15ms/step - loss: 0.4239 - accuracy: 0.8667 - val_loss: 0.4654 - val_accuracy: 0.9000\n",
            "Epoch 120/300\n",
            "4/4 [==============================] - 0s 14ms/step - loss: 0.4230 - accuracy: 0.8667 - val_loss: 0.4648 - val_accuracy: 0.9000\n",
            "Epoch 121/300\n",
            "4/4 [==============================] - 0s 14ms/step - loss: 0.4224 - accuracy: 0.8667 - val_loss: 0.4642 - val_accuracy: 0.9000\n",
            "Epoch 122/300\n",
            "4/4 [==============================] - 0s 17ms/step - loss: 0.4216 - accuracy: 0.8667 - val_loss: 0.4632 - val_accuracy: 0.9000\n",
            "Epoch 123/300\n",
            "4/4 [==============================] - 0s 16ms/step - loss: 0.4209 - accuracy: 0.8667 - val_loss: 0.4625 - val_accuracy: 0.9000\n",
            "Epoch 124/300\n",
            "4/4 [==============================] - 0s 13ms/step - loss: 0.4202 - accuracy: 0.8667 - val_loss: 0.4616 - val_accuracy: 0.9000\n",
            "Epoch 125/300\n",
            "4/4 [==============================] - 0s 12ms/step - loss: 0.4194 - accuracy: 0.8667 - val_loss: 0.4607 - val_accuracy: 0.9000\n",
            "Epoch 126/300\n",
            "4/4 [==============================] - 0s 15ms/step - loss: 0.4187 - accuracy: 0.8667 - val_loss: 0.4599 - val_accuracy: 0.9000\n",
            "Epoch 127/300\n",
            "4/4 [==============================] - 0s 14ms/step - loss: 0.4181 - accuracy: 0.8667 - val_loss: 0.4592 - val_accuracy: 0.9000\n",
            "Epoch 128/300\n",
            "4/4 [==============================] - 0s 16ms/step - loss: 0.4173 - accuracy: 0.8667 - val_loss: 0.4586 - val_accuracy: 0.9000\n",
            "Epoch 129/300\n",
            "4/4 [==============================] - 0s 55ms/step - loss: 0.4167 - accuracy: 0.8667 - val_loss: 0.4579 - val_accuracy: 0.9000\n",
            "Epoch 130/300\n",
            "4/4 [==============================] - 0s 16ms/step - loss: 0.4159 - accuracy: 0.8667 - val_loss: 0.4569 - val_accuracy: 0.9000\n",
            "Epoch 131/300\n",
            "4/4 [==============================] - 0s 14ms/step - loss: 0.4152 - accuracy: 0.8750 - val_loss: 0.4561 - val_accuracy: 0.9000\n",
            "Epoch 132/300\n",
            "4/4 [==============================] - 0s 13ms/step - loss: 0.4145 - accuracy: 0.8750 - val_loss: 0.4553 - val_accuracy: 0.9000\n",
            "Epoch 133/300\n",
            "4/4 [==============================] - 0s 16ms/step - loss: 0.4138 - accuracy: 0.8750 - val_loss: 0.4544 - val_accuracy: 0.9000\n",
            "Epoch 134/300\n",
            "4/4 [==============================] - 0s 17ms/step - loss: 0.4131 - accuracy: 0.8750 - val_loss: 0.4539 - val_accuracy: 0.9000\n",
            "Epoch 135/300\n",
            "4/4 [==============================] - 0s 17ms/step - loss: 0.4123 - accuracy: 0.8750 - val_loss: 0.4532 - val_accuracy: 0.9000\n",
            "Epoch 136/300\n",
            "4/4 [==============================] - 0s 14ms/step - loss: 0.4117 - accuracy: 0.8750 - val_loss: 0.4525 - val_accuracy: 0.9000\n",
            "Epoch 137/300\n",
            "4/4 [==============================] - 0s 14ms/step - loss: 0.4110 - accuracy: 0.8750 - val_loss: 0.4518 - val_accuracy: 0.9000\n",
            "Epoch 138/300\n",
            "4/4 [==============================] - 0s 18ms/step - loss: 0.4103 - accuracy: 0.8750 - val_loss: 0.4510 - val_accuracy: 0.9000\n",
            "Epoch 139/300\n",
            "4/4 [==============================] - 0s 15ms/step - loss: 0.4096 - accuracy: 0.8750 - val_loss: 0.4503 - val_accuracy: 0.9000\n",
            "Epoch 140/300\n",
            "4/4 [==============================] - 0s 18ms/step - loss: 0.4089 - accuracy: 0.8750 - val_loss: 0.4496 - val_accuracy: 0.9000\n",
            "Epoch 141/300\n",
            "4/4 [==============================] - 0s 15ms/step - loss: 0.4081 - accuracy: 0.8750 - val_loss: 0.4487 - val_accuracy: 0.9000\n",
            "Epoch 142/300\n",
            "4/4 [==============================] - 0s 16ms/step - loss: 0.4075 - accuracy: 0.8750 - val_loss: 0.4477 - val_accuracy: 0.9000\n",
            "Epoch 143/300\n",
            "4/4 [==============================] - 0s 13ms/step - loss: 0.4068 - accuracy: 0.8833 - val_loss: 0.4469 - val_accuracy: 0.9000\n",
            "Epoch 144/300\n",
            "4/4 [==============================] - 0s 14ms/step - loss: 0.4061 - accuracy: 0.8917 - val_loss: 0.4461 - val_accuracy: 0.9000\n",
            "Epoch 145/300\n",
            "4/4 [==============================] - 0s 16ms/step - loss: 0.4054 - accuracy: 0.8917 - val_loss: 0.4454 - val_accuracy: 0.9000\n",
            "Epoch 146/300\n",
            "4/4 [==============================] - 0s 17ms/step - loss: 0.4048 - accuracy: 0.8917 - val_loss: 0.4448 - val_accuracy: 0.9000\n",
            "Epoch 147/300\n",
            "4/4 [==============================] - 0s 15ms/step - loss: 0.4041 - accuracy: 0.8917 - val_loss: 0.4441 - val_accuracy: 0.9000\n",
            "Epoch 148/300\n",
            "4/4 [==============================] - 0s 15ms/step - loss: 0.4035 - accuracy: 0.8917 - val_loss: 0.4436 - val_accuracy: 0.9000\n",
            "Epoch 149/300\n",
            "4/4 [==============================] - 0s 16ms/step - loss: 0.4029 - accuracy: 0.8833 - val_loss: 0.4430 - val_accuracy: 0.9000\n",
            "Epoch 150/300\n",
            "4/4 [==============================] - 0s 15ms/step - loss: 0.4022 - accuracy: 0.8750 - val_loss: 0.4423 - val_accuracy: 0.9000\n",
            "Epoch 151/300\n",
            "4/4 [==============================] - 0s 13ms/step - loss: 0.4016 - accuracy: 0.8917 - val_loss: 0.4413 - val_accuracy: 0.9000\n",
            "Epoch 152/300\n",
            "4/4 [==============================] - 0s 14ms/step - loss: 0.4008 - accuracy: 0.8917 - val_loss: 0.4404 - val_accuracy: 0.9000\n",
            "Epoch 153/300\n",
            "4/4 [==============================] - 0s 12ms/step - loss: 0.4002 - accuracy: 0.8917 - val_loss: 0.4397 - val_accuracy: 0.9000\n",
            "Epoch 154/300\n",
            "4/4 [==============================] - 0s 15ms/step - loss: 0.3995 - accuracy: 0.8917 - val_loss: 0.4388 - val_accuracy: 0.9000\n",
            "Epoch 155/300\n",
            "4/4 [==============================] - 0s 17ms/step - loss: 0.3989 - accuracy: 0.8917 - val_loss: 0.4380 - val_accuracy: 0.9000\n",
            "Epoch 156/300\n",
            "4/4 [==============================] - 0s 15ms/step - loss: 0.3983 - accuracy: 0.8917 - val_loss: 0.4371 - val_accuracy: 0.9000\n",
            "Epoch 157/300\n",
            "4/4 [==============================] - 0s 14ms/step - loss: 0.3976 - accuracy: 0.8917 - val_loss: 0.4364 - val_accuracy: 0.9000\n",
            "Epoch 158/300\n",
            "4/4 [==============================] - 0s 14ms/step - loss: 0.3969 - accuracy: 0.8917 - val_loss: 0.4357 - val_accuracy: 0.9000\n",
            "Epoch 159/300\n",
            "4/4 [==============================] - 0s 16ms/step - loss: 0.3963 - accuracy: 0.8917 - val_loss: 0.4351 - val_accuracy: 0.9000\n",
            "Epoch 160/300\n",
            "4/4 [==============================] - 0s 16ms/step - loss: 0.3956 - accuracy: 0.8917 - val_loss: 0.4345 - val_accuracy: 0.9000\n",
            "Epoch 161/300\n",
            "4/4 [==============================] - 0s 14ms/step - loss: 0.3950 - accuracy: 0.8917 - val_loss: 0.4339 - val_accuracy: 0.9000\n",
            "Epoch 162/300\n",
            "4/4 [==============================] - 0s 14ms/step - loss: 0.3947 - accuracy: 0.8917 - val_loss: 0.4331 - val_accuracy: 0.9000\n",
            "Epoch 163/300\n",
            "4/4 [==============================] - 0s 14ms/step - loss: 0.3936 - accuracy: 0.8917 - val_loss: 0.4326 - val_accuracy: 0.9000\n",
            "Epoch 164/300\n",
            "4/4 [==============================] - 0s 15ms/step - loss: 0.3934 - accuracy: 0.8917 - val_loss: 0.4324 - val_accuracy: 0.9000\n",
            "Epoch 165/300\n",
            "4/4 [==============================] - 0s 17ms/step - loss: 0.3925 - accuracy: 0.8917 - val_loss: 0.4318 - val_accuracy: 0.9000\n",
            "Epoch 166/300\n",
            "4/4 [==============================] - 0s 17ms/step - loss: 0.3920 - accuracy: 0.8917 - val_loss: 0.4312 - val_accuracy: 0.9000\n",
            "Epoch 167/300\n",
            "4/4 [==============================] - 0s 14ms/step - loss: 0.3913 - accuracy: 0.8917 - val_loss: 0.4305 - val_accuracy: 0.9000\n",
            "Epoch 168/300\n",
            "4/4 [==============================] - 0s 16ms/step - loss: 0.3906 - accuracy: 0.8917 - val_loss: 0.4296 - val_accuracy: 0.9000\n",
            "Epoch 169/300\n",
            "4/4 [==============================] - 0s 15ms/step - loss: 0.3900 - accuracy: 0.8917 - val_loss: 0.4288 - val_accuracy: 0.9000\n",
            "Epoch 170/300\n",
            "4/4 [==============================] - 0s 14ms/step - loss: 0.3893 - accuracy: 0.8917 - val_loss: 0.4281 - val_accuracy: 0.9000\n",
            "Epoch 171/300\n",
            "4/4 [==============================] - 0s 14ms/step - loss: 0.3888 - accuracy: 0.8917 - val_loss: 0.4275 - val_accuracy: 0.9000\n",
            "Epoch 172/300\n",
            "4/4 [==============================] - 0s 16ms/step - loss: 0.3880 - accuracy: 0.8917 - val_loss: 0.4267 - val_accuracy: 0.9000\n",
            "Epoch 173/300\n",
            "4/4 [==============================] - 0s 17ms/step - loss: 0.3875 - accuracy: 0.8917 - val_loss: 0.4259 - val_accuracy: 0.9000\n",
            "Epoch 174/300\n",
            "4/4 [==============================] - 0s 15ms/step - loss: 0.3868 - accuracy: 0.8917 - val_loss: 0.4252 - val_accuracy: 0.9000\n",
            "Epoch 175/300\n",
            "4/4 [==============================] - 0s 15ms/step - loss: 0.3862 - accuracy: 0.8917 - val_loss: 0.4244 - val_accuracy: 0.9000\n",
            "Epoch 176/300\n",
            "4/4 [==============================] - 0s 16ms/step - loss: 0.3855 - accuracy: 0.8917 - val_loss: 0.4237 - val_accuracy: 0.9000\n",
            "Epoch 177/300\n",
            "4/4 [==============================] - 0s 16ms/step - loss: 0.3850 - accuracy: 0.8917 - val_loss: 0.4229 - val_accuracy: 0.9000\n",
            "Epoch 178/300\n",
            "4/4 [==============================] - 0s 16ms/step - loss: 0.3843 - accuracy: 0.9000 - val_loss: 0.4222 - val_accuracy: 0.9000\n",
            "Epoch 179/300\n",
            "4/4 [==============================] - 0s 15ms/step - loss: 0.3836 - accuracy: 0.9000 - val_loss: 0.4215 - val_accuracy: 0.9000\n",
            "Epoch 180/300\n",
            "4/4 [==============================] - 0s 17ms/step - loss: 0.3832 - accuracy: 0.9000 - val_loss: 0.4209 - val_accuracy: 0.9000\n",
            "Epoch 181/300\n",
            "4/4 [==============================] - 0s 17ms/step - loss: 0.3825 - accuracy: 0.9000 - val_loss: 0.4202 - val_accuracy: 0.9000\n",
            "Epoch 182/300\n",
            "4/4 [==============================] - 0s 19ms/step - loss: 0.3820 - accuracy: 0.9000 - val_loss: 0.4196 - val_accuracy: 0.9000\n",
            "Epoch 183/300\n",
            "4/4 [==============================] - 0s 16ms/step - loss: 0.3812 - accuracy: 0.9000 - val_loss: 0.4189 - val_accuracy: 0.9000\n",
            "Epoch 184/300\n",
            "4/4 [==============================] - 0s 15ms/step - loss: 0.3806 - accuracy: 0.9000 - val_loss: 0.4181 - val_accuracy: 0.9000\n",
            "Epoch 185/300\n",
            "4/4 [==============================] - 0s 15ms/step - loss: 0.3800 - accuracy: 0.9083 - val_loss: 0.4174 - val_accuracy: 0.9000\n",
            "Epoch 186/300\n",
            "4/4 [==============================] - 0s 16ms/step - loss: 0.3794 - accuracy: 0.9167 - val_loss: 0.4167 - val_accuracy: 0.9000\n",
            "Epoch 187/300\n",
            "4/4 [==============================] - 0s 54ms/step - loss: 0.3788 - accuracy: 0.9083 - val_loss: 0.4160 - val_accuracy: 0.9000\n",
            "Epoch 188/300\n",
            "4/4 [==============================] - 0s 14ms/step - loss: 0.3781 - accuracy: 0.9167 - val_loss: 0.4154 - val_accuracy: 0.9000\n",
            "Epoch 189/300\n",
            "4/4 [==============================] - 0s 16ms/step - loss: 0.3775 - accuracy: 0.9083 - val_loss: 0.4149 - val_accuracy: 0.9000\n",
            "Epoch 190/300\n",
            "4/4 [==============================] - 0s 15ms/step - loss: 0.3769 - accuracy: 0.9083 - val_loss: 0.4143 - val_accuracy: 0.9000\n",
            "Epoch 191/300\n",
            "4/4 [==============================] - 0s 15ms/step - loss: 0.3763 - accuracy: 0.9083 - val_loss: 0.4137 - val_accuracy: 0.9000\n",
            "Epoch 192/300\n",
            "4/4 [==============================] - 0s 16ms/step - loss: 0.3757 - accuracy: 0.9083 - val_loss: 0.4130 - val_accuracy: 0.9000\n",
            "Epoch 193/300\n",
            "4/4 [==============================] - 0s 15ms/step - loss: 0.3751 - accuracy: 0.9083 - val_loss: 0.4124 - val_accuracy: 0.9000\n",
            "Epoch 194/300\n",
            "4/4 [==============================] - 0s 15ms/step - loss: 0.3745 - accuracy: 0.9083 - val_loss: 0.4118 - val_accuracy: 0.9000\n",
            "Epoch 195/300\n",
            "4/4 [==============================] - 0s 16ms/step - loss: 0.3739 - accuracy: 0.9083 - val_loss: 0.4111 - val_accuracy: 0.9000\n",
            "Epoch 196/300\n",
            "4/4 [==============================] - 0s 18ms/step - loss: 0.3733 - accuracy: 0.9083 - val_loss: 0.4105 - val_accuracy: 0.9000\n",
            "Epoch 197/300\n",
            "4/4 [==============================] - 0s 15ms/step - loss: 0.3727 - accuracy: 0.9083 - val_loss: 0.4099 - val_accuracy: 0.9000\n",
            "Epoch 198/300\n",
            "4/4 [==============================] - 0s 16ms/step - loss: 0.3720 - accuracy: 0.9000 - val_loss: 0.4092 - val_accuracy: 0.9000\n",
            "Epoch 199/300\n",
            "4/4 [==============================] - 0s 17ms/step - loss: 0.3715 - accuracy: 0.9167 - val_loss: 0.4085 - val_accuracy: 0.9000\n",
            "Epoch 200/300\n",
            "4/4 [==============================] - 0s 14ms/step - loss: 0.3709 - accuracy: 0.9167 - val_loss: 0.4078 - val_accuracy: 0.9000\n",
            "Epoch 201/300\n",
            "4/4 [==============================] - 0s 15ms/step - loss: 0.3703 - accuracy: 0.9167 - val_loss: 0.4072 - val_accuracy: 0.9000\n",
            "Epoch 202/300\n",
            "4/4 [==============================] - 0s 14ms/step - loss: 0.3698 - accuracy: 0.9167 - val_loss: 0.4065 - val_accuracy: 0.9000\n",
            "Epoch 203/300\n",
            "4/4 [==============================] - 0s 14ms/step - loss: 0.3691 - accuracy: 0.9167 - val_loss: 0.4059 - val_accuracy: 0.9000\n",
            "Epoch 204/300\n",
            "4/4 [==============================] - 0s 15ms/step - loss: 0.3686 - accuracy: 0.9167 - val_loss: 0.4053 - val_accuracy: 0.9000\n",
            "Epoch 205/300\n",
            "4/4 [==============================] - 0s 15ms/step - loss: 0.3680 - accuracy: 0.9167 - val_loss: 0.4048 - val_accuracy: 0.9000\n",
            "Epoch 206/300\n",
            "4/4 [==============================] - 0s 14ms/step - loss: 0.3675 - accuracy: 0.9083 - val_loss: 0.4043 - val_accuracy: 0.9000\n",
            "Epoch 207/300\n",
            "4/4 [==============================] - 0s 15ms/step - loss: 0.3668 - accuracy: 0.9083 - val_loss: 0.4036 - val_accuracy: 0.9000\n",
            "Epoch 208/300\n",
            "4/4 [==============================] - 0s 18ms/step - loss: 0.3663 - accuracy: 0.9083 - val_loss: 0.4030 - val_accuracy: 0.9000\n",
            "Epoch 209/300\n",
            "4/4 [==============================] - 0s 13ms/step - loss: 0.3659 - accuracy: 0.9000 - val_loss: 0.4025 - val_accuracy: 0.9000\n",
            "Epoch 210/300\n",
            "4/4 [==============================] - 0s 13ms/step - loss: 0.3651 - accuracy: 0.9083 - val_loss: 0.4019 - val_accuracy: 0.9000\n",
            "Epoch 211/300\n",
            "4/4 [==============================] - 0s 15ms/step - loss: 0.3646 - accuracy: 0.9083 - val_loss: 0.4012 - val_accuracy: 0.9000\n",
            "Epoch 212/300\n",
            "4/4 [==============================] - 0s 15ms/step - loss: 0.3640 - accuracy: 0.9083 - val_loss: 0.4006 - val_accuracy: 0.9000\n",
            "Epoch 213/300\n",
            "4/4 [==============================] - 0s 14ms/step - loss: 0.3636 - accuracy: 0.9167 - val_loss: 0.3999 - val_accuracy: 0.9000\n",
            "Epoch 214/300\n",
            "4/4 [==============================] - 0s 15ms/step - loss: 0.3629 - accuracy: 0.9167 - val_loss: 0.3993 - val_accuracy: 0.9000\n",
            "Epoch 215/300\n",
            "4/4 [==============================] - 0s 15ms/step - loss: 0.3624 - accuracy: 0.9167 - val_loss: 0.3987 - val_accuracy: 0.9000\n",
            "Epoch 216/300\n",
            "4/4 [==============================] - 0s 18ms/step - loss: 0.3618 - accuracy: 0.9167 - val_loss: 0.3982 - val_accuracy: 0.9000\n",
            "Epoch 217/300\n",
            "4/4 [==============================] - 0s 16ms/step - loss: 0.3614 - accuracy: 0.9167 - val_loss: 0.3975 - val_accuracy: 0.9000\n",
            "Epoch 218/300\n",
            "4/4 [==============================] - 0s 15ms/step - loss: 0.3608 - accuracy: 0.9083 - val_loss: 0.3970 - val_accuracy: 0.9000\n",
            "Epoch 219/300\n",
            "4/4 [==============================] - 0s 12ms/step - loss: 0.3602 - accuracy: 0.9167 - val_loss: 0.3964 - val_accuracy: 0.9000\n",
            "Epoch 220/300\n",
            "4/4 [==============================] - 0s 15ms/step - loss: 0.3596 - accuracy: 0.9167 - val_loss: 0.3957 - val_accuracy: 0.9000\n",
            "Epoch 221/300\n",
            "4/4 [==============================] - 0s 15ms/step - loss: 0.3590 - accuracy: 0.9167 - val_loss: 0.3952 - val_accuracy: 0.9000\n",
            "Epoch 222/300\n",
            "4/4 [==============================] - 0s 15ms/step - loss: 0.3586 - accuracy: 0.9083 - val_loss: 0.3946 - val_accuracy: 0.9000\n",
            "Epoch 223/300\n",
            "4/4 [==============================] - 0s 14ms/step - loss: 0.3580 - accuracy: 0.9083 - val_loss: 0.3941 - val_accuracy: 0.9000\n",
            "Epoch 224/300\n",
            "4/4 [==============================] - 0s 16ms/step - loss: 0.3578 - accuracy: 0.9083 - val_loss: 0.3936 - val_accuracy: 0.9000\n",
            "Epoch 225/300\n",
            "4/4 [==============================] - 0s 15ms/step - loss: 0.3569 - accuracy: 0.9083 - val_loss: 0.3929 - val_accuracy: 0.9000\n",
            "Epoch 226/300\n",
            "4/4 [==============================] - 0s 16ms/step - loss: 0.3564 - accuracy: 0.9167 - val_loss: 0.3922 - val_accuracy: 0.9000\n",
            "Epoch 227/300\n",
            "4/4 [==============================] - 0s 17ms/step - loss: 0.3558 - accuracy: 0.9167 - val_loss: 0.3916 - val_accuracy: 0.9000\n",
            "Epoch 228/300\n",
            "4/4 [==============================] - 0s 14ms/step - loss: 0.3552 - accuracy: 0.9167 - val_loss: 0.3910 - val_accuracy: 0.9333\n",
            "Epoch 229/300\n",
            "4/4 [==============================] - 0s 14ms/step - loss: 0.3547 - accuracy: 0.9167 - val_loss: 0.3905 - val_accuracy: 0.9000\n",
            "Epoch 230/300\n",
            "4/4 [==============================] - 0s 17ms/step - loss: 0.3542 - accuracy: 0.9167 - val_loss: 0.3898 - val_accuracy: 0.9333\n",
            "Epoch 231/300\n",
            "4/4 [==============================] - 0s 15ms/step - loss: 0.3536 - accuracy: 0.9167 - val_loss: 0.3892 - val_accuracy: 0.9333\n",
            "Epoch 232/300\n",
            "4/4 [==============================] - 0s 15ms/step - loss: 0.3532 - accuracy: 0.9167 - val_loss: 0.3888 - val_accuracy: 0.9000\n",
            "Epoch 233/300\n",
            "4/4 [==============================] - 0s 17ms/step - loss: 0.3525 - accuracy: 0.9083 - val_loss: 0.3881 - val_accuracy: 0.9333\n",
            "Epoch 234/300\n",
            "4/4 [==============================] - 0s 15ms/step - loss: 0.3519 - accuracy: 0.9167 - val_loss: 0.3875 - val_accuracy: 0.9333\n",
            "Epoch 235/300\n",
            "4/4 [==============================] - 0s 16ms/step - loss: 0.3514 - accuracy: 0.9167 - val_loss: 0.3869 - val_accuracy: 0.9333\n",
            "Epoch 236/300\n",
            "4/4 [==============================] - 0s 19ms/step - loss: 0.3511 - accuracy: 0.9167 - val_loss: 0.3862 - val_accuracy: 0.9333\n",
            "Epoch 237/300\n",
            "4/4 [==============================] - 0s 15ms/step - loss: 0.3503 - accuracy: 0.9167 - val_loss: 0.3857 - val_accuracy: 0.9333\n",
            "Epoch 238/300\n",
            "4/4 [==============================] - 0s 16ms/step - loss: 0.3498 - accuracy: 0.9167 - val_loss: 0.3851 - val_accuracy: 0.9333\n",
            "Epoch 239/300\n",
            "4/4 [==============================] - 0s 15ms/step - loss: 0.3493 - accuracy: 0.9167 - val_loss: 0.3846 - val_accuracy: 0.9333\n",
            "Epoch 240/300\n",
            "4/4 [==============================] - 0s 15ms/step - loss: 0.3488 - accuracy: 0.9083 - val_loss: 0.3840 - val_accuracy: 0.9333\n",
            "Epoch 241/300\n",
            "4/4 [==============================] - 0s 16ms/step - loss: 0.3482 - accuracy: 0.9083 - val_loss: 0.3834 - val_accuracy: 0.9333\n",
            "Epoch 242/300\n",
            "4/4 [==============================] - 0s 15ms/step - loss: 0.3476 - accuracy: 0.9167 - val_loss: 0.3827 - val_accuracy: 0.9333\n",
            "Epoch 243/300\n",
            "4/4 [==============================] - 0s 13ms/step - loss: 0.3471 - accuracy: 0.9167 - val_loss: 0.3821 - val_accuracy: 0.9333\n",
            "Epoch 244/300\n",
            "4/4 [==============================] - 0s 14ms/step - loss: 0.3466 - accuracy: 0.9167 - val_loss: 0.3815 - val_accuracy: 0.9333\n",
            "Epoch 245/300\n",
            "4/4 [==============================] - 0s 57ms/step - loss: 0.3460 - accuracy: 0.9167 - val_loss: 0.3809 - val_accuracy: 0.9333\n",
            "Epoch 246/300\n",
            "4/4 [==============================] - 0s 15ms/step - loss: 0.3456 - accuracy: 0.9167 - val_loss: 0.3803 - val_accuracy: 0.9333\n",
            "Epoch 247/300\n",
            "4/4 [==============================] - 0s 15ms/step - loss: 0.3450 - accuracy: 0.9167 - val_loss: 0.3797 - val_accuracy: 0.9333\n",
            "Epoch 248/300\n",
            "4/4 [==============================] - 0s 16ms/step - loss: 0.3445 - accuracy: 0.9167 - val_loss: 0.3791 - val_accuracy: 0.9333\n",
            "Epoch 249/300\n",
            "4/4 [==============================] - 0s 15ms/step - loss: 0.3439 - accuracy: 0.9167 - val_loss: 0.3786 - val_accuracy: 0.9333\n",
            "Epoch 250/300\n",
            "4/4 [==============================] - 0s 16ms/step - loss: 0.3434 - accuracy: 0.9167 - val_loss: 0.3781 - val_accuracy: 0.9333\n",
            "Epoch 251/300\n",
            "4/4 [==============================] - 0s 15ms/step - loss: 0.3429 - accuracy: 0.9167 - val_loss: 0.3776 - val_accuracy: 0.9333\n",
            "Epoch 252/300\n",
            "4/4 [==============================] - 0s 15ms/step - loss: 0.3423 - accuracy: 0.9167 - val_loss: 0.3770 - val_accuracy: 0.9333\n",
            "Epoch 253/300\n",
            "4/4 [==============================] - 0s 18ms/step - loss: 0.3418 - accuracy: 0.9167 - val_loss: 0.3764 - val_accuracy: 0.9333\n",
            "Epoch 254/300\n",
            "4/4 [==============================] - 0s 15ms/step - loss: 0.3413 - accuracy: 0.9167 - val_loss: 0.3757 - val_accuracy: 0.9333\n",
            "Epoch 255/300\n",
            "4/4 [==============================] - 0s 13ms/step - loss: 0.3407 - accuracy: 0.9167 - val_loss: 0.3751 - val_accuracy: 0.9333\n",
            "Epoch 256/300\n",
            "4/4 [==============================] - 0s 17ms/step - loss: 0.3402 - accuracy: 0.9167 - val_loss: 0.3745 - val_accuracy: 0.9333\n",
            "Epoch 257/300\n",
            "4/4 [==============================] - 0s 15ms/step - loss: 0.3396 - accuracy: 0.9167 - val_loss: 0.3740 - val_accuracy: 0.9333\n",
            "Epoch 258/300\n",
            "4/4 [==============================] - 0s 15ms/step - loss: 0.3391 - accuracy: 0.9167 - val_loss: 0.3734 - val_accuracy: 0.9333\n",
            "Epoch 259/300\n",
            "4/4 [==============================] - 0s 15ms/step - loss: 0.3386 - accuracy: 0.9167 - val_loss: 0.3729 - val_accuracy: 0.9333\n",
            "Epoch 260/300\n",
            "4/4 [==============================] - 0s 15ms/step - loss: 0.3381 - accuracy: 0.9167 - val_loss: 0.3724 - val_accuracy: 0.9333\n",
            "Epoch 261/300\n",
            "4/4 [==============================] - 0s 15ms/step - loss: 0.3376 - accuracy: 0.9167 - val_loss: 0.3718 - val_accuracy: 0.9333\n",
            "Epoch 262/300\n",
            "4/4 [==============================] - 0s 15ms/step - loss: 0.3372 - accuracy: 0.9167 - val_loss: 0.3714 - val_accuracy: 0.9333\n",
            "Epoch 263/300\n",
            "4/4 [==============================] - 0s 20ms/step - loss: 0.3365 - accuracy: 0.9167 - val_loss: 0.3708 - val_accuracy: 0.9333\n",
            "Epoch 264/300\n",
            "4/4 [==============================] - 0s 16ms/step - loss: 0.3360 - accuracy: 0.9167 - val_loss: 0.3701 - val_accuracy: 0.9333\n",
            "Epoch 265/300\n",
            "4/4 [==============================] - 0s 15ms/step - loss: 0.3355 - accuracy: 0.9167 - val_loss: 0.3696 - val_accuracy: 0.9333\n",
            "Epoch 266/300\n",
            "4/4 [==============================] - 0s 16ms/step - loss: 0.3349 - accuracy: 0.9167 - val_loss: 0.3690 - val_accuracy: 0.9333\n",
            "Epoch 267/300\n",
            "4/4 [==============================] - 0s 15ms/step - loss: 0.3344 - accuracy: 0.9167 - val_loss: 0.3684 - val_accuracy: 0.9333\n",
            "Epoch 268/300\n",
            "4/4 [==============================] - 0s 16ms/step - loss: 0.3338 - accuracy: 0.9167 - val_loss: 0.3678 - val_accuracy: 0.9333\n",
            "Epoch 269/300\n",
            "4/4 [==============================] - 0s 19ms/step - loss: 0.3334 - accuracy: 0.9167 - val_loss: 0.3672 - val_accuracy: 0.9333\n",
            "Epoch 270/300\n",
            "4/4 [==============================] - 0s 16ms/step - loss: 0.3329 - accuracy: 0.9167 - val_loss: 0.3666 - val_accuracy: 0.9333\n",
            "Epoch 271/300\n",
            "4/4 [==============================] - 0s 15ms/step - loss: 0.3324 - accuracy: 0.9167 - val_loss: 0.3661 - val_accuracy: 0.9333\n",
            "Epoch 272/300\n",
            "4/4 [==============================] - 0s 18ms/step - loss: 0.3319 - accuracy: 0.9167 - val_loss: 0.3656 - val_accuracy: 0.9333\n",
            "Epoch 273/300\n",
            "4/4 [==============================] - 0s 20ms/step - loss: 0.3314 - accuracy: 0.9167 - val_loss: 0.3651 - val_accuracy: 0.9333\n",
            "Epoch 274/300\n",
            "4/4 [==============================] - 0s 16ms/step - loss: 0.3307 - accuracy: 0.9167 - val_loss: 0.3645 - val_accuracy: 0.9333\n",
            "Epoch 275/300\n",
            "4/4 [==============================] - 0s 16ms/step - loss: 0.3302 - accuracy: 0.9167 - val_loss: 0.3640 - val_accuracy: 0.9333\n",
            "Epoch 276/300\n",
            "4/4 [==============================] - 0s 16ms/step - loss: 0.3297 - accuracy: 0.9167 - val_loss: 0.3634 - val_accuracy: 0.9333\n",
            "Epoch 277/300\n",
            "4/4 [==============================] - 0s 16ms/step - loss: 0.3293 - accuracy: 0.9167 - val_loss: 0.3629 - val_accuracy: 0.9333\n",
            "Epoch 278/300\n",
            "4/4 [==============================] - 0s 15ms/step - loss: 0.3288 - accuracy: 0.9167 - val_loss: 0.3623 - val_accuracy: 0.9333\n",
            "Epoch 279/300\n",
            "4/4 [==============================] - 0s 14ms/step - loss: 0.3282 - accuracy: 0.9167 - val_loss: 0.3617 - val_accuracy: 0.9333\n",
            "Epoch 280/300\n",
            "4/4 [==============================] - 0s 15ms/step - loss: 0.3277 - accuracy: 0.9167 - val_loss: 0.3612 - val_accuracy: 0.9333\n",
            "Epoch 281/300\n",
            "4/4 [==============================] - 0s 15ms/step - loss: 0.3271 - accuracy: 0.9167 - val_loss: 0.3606 - val_accuracy: 0.9333\n",
            "Epoch 282/300\n",
            "4/4 [==============================] - 0s 14ms/step - loss: 0.3267 - accuracy: 0.9167 - val_loss: 0.3601 - val_accuracy: 0.9333\n",
            "Epoch 283/300\n",
            "4/4 [==============================] - 0s 19ms/step - loss: 0.3262 - accuracy: 0.9167 - val_loss: 0.3595 - val_accuracy: 0.9333\n",
            "Epoch 284/300\n",
            "4/4 [==============================] - 0s 17ms/step - loss: 0.3257 - accuracy: 0.9167 - val_loss: 0.3589 - val_accuracy: 0.9333\n",
            "Epoch 285/300\n",
            "4/4 [==============================] - 0s 15ms/step - loss: 0.3252 - accuracy: 0.9250 - val_loss: 0.3584 - val_accuracy: 0.9333\n",
            "Epoch 286/300\n",
            "4/4 [==============================] - 0s 16ms/step - loss: 0.3246 - accuracy: 0.9250 - val_loss: 0.3578 - val_accuracy: 0.9333\n",
            "Epoch 287/300\n",
            "4/4 [==============================] - 0s 16ms/step - loss: 0.3240 - accuracy: 0.9250 - val_loss: 0.3573 - val_accuracy: 0.9333\n",
            "Epoch 288/300\n",
            "4/4 [==============================] - 0s 16ms/step - loss: 0.3236 - accuracy: 0.9250 - val_loss: 0.3568 - val_accuracy: 0.9333\n",
            "Epoch 289/300\n",
            "4/4 [==============================] - 0s 16ms/step - loss: 0.3230 - accuracy: 0.9250 - val_loss: 0.3562 - val_accuracy: 0.9333\n",
            "Epoch 290/300\n",
            "4/4 [==============================] - 0s 16ms/step - loss: 0.3226 - accuracy: 0.9167 - val_loss: 0.3557 - val_accuracy: 0.9333\n",
            "Epoch 291/300\n",
            "4/4 [==============================] - 0s 17ms/step - loss: 0.3220 - accuracy: 0.9250 - val_loss: 0.3551 - val_accuracy: 0.9333\n",
            "Epoch 292/300\n",
            "4/4 [==============================] - 0s 17ms/step - loss: 0.3215 - accuracy: 0.9250 - val_loss: 0.3546 - val_accuracy: 0.9333\n",
            "Epoch 293/300\n",
            "4/4 [==============================] - 0s 15ms/step - loss: 0.3210 - accuracy: 0.9250 - val_loss: 0.3540 - val_accuracy: 0.9333\n",
            "Epoch 294/300\n",
            "4/4 [==============================] - 0s 15ms/step - loss: 0.3205 - accuracy: 0.9250 - val_loss: 0.3535 - val_accuracy: 0.9333\n",
            "Epoch 295/300\n",
            "4/4 [==============================] - 0s 14ms/step - loss: 0.3200 - accuracy: 0.9250 - val_loss: 0.3529 - val_accuracy: 0.9333\n",
            "Epoch 296/300\n",
            "4/4 [==============================] - 0s 17ms/step - loss: 0.3195 - accuracy: 0.9250 - val_loss: 0.3524 - val_accuracy: 0.9333\n",
            "Epoch 297/300\n",
            "4/4 [==============================] - 0s 13ms/step - loss: 0.3190 - accuracy: 0.9250 - val_loss: 0.3518 - val_accuracy: 0.9333\n",
            "Epoch 298/300\n",
            "4/4 [==============================] - 0s 18ms/step - loss: 0.3185 - accuracy: 0.9250 - val_loss: 0.3513 - val_accuracy: 0.9333\n",
            "Epoch 299/300\n",
            "4/4 [==============================] - 0s 15ms/step - loss: 0.3180 - accuracy: 0.9250 - val_loss: 0.3508 - val_accuracy: 0.9333\n",
            "Epoch 300/300\n",
            "4/4 [==============================] - 0s 15ms/step - loss: 0.3176 - accuracy: 0.9250 - val_loss: 0.3502 - val_accuracy: 0.9333\n"
          ],
          "name": "stdout"
        },
        {
          "output_type": "execute_result",
          "data": {
            "text/plain": [
              "<tensorflow.python.keras.callbacks.History at 0x7fa6636185f8>"
            ]
          },
          "metadata": {
            "tags": []
          },
          "execution_count": 42
        }
      ]
    },
    {
      "cell_type": "code",
      "metadata": {
        "id": "dVRlXfAIoGzA"
      },
      "source": [
        "\r\n",
        "metrics = pd.DataFrame(model.history.history)"
      ],
      "execution_count": 51,
      "outputs": []
    },
    {
      "cell_type": "code",
      "metadata": {
        "colab": {
          "base_uri": "https://localhost:8080/"
        },
        "id": "L9Iyt5DwoVWe",
        "outputId": "76ce4f5a-eeb5-42d6-efb6-c41e0d672783"
      },
      "source": [
        "model.evaluate(x=scaled_X_test,y=y_test,verbose=0)"
      ],
      "execution_count": 44,
      "outputs": [
        {
          "output_type": "execute_result",
          "data": {
            "text/plain": [
              "[0.3502125144004822, 0.9333333373069763]"
            ]
          },
          "metadata": {
            "tags": []
          },
          "execution_count": 44
        }
      ]
    },
    {
      "cell_type": "code",
      "metadata": {
        "id": "QtwDx0SRpq1D"
      },
      "source": [
        "from tensorflow.keras.models import load_model\r\n"
      ],
      "execution_count": 53,
      "outputs": []
    },
    {
      "cell_type": "code",
      "metadata": {
        "id": "uNzt7Px6q3lt"
      },
      "source": [
        "model.save('my_model.h5')"
      ],
      "execution_count": 54,
      "outputs": []
    },
    {
      "cell_type": "code",
      "metadata": {
        "colab": {
          "base_uri": "https://localhost:8080/"
        },
        "id": "Rh3nkk2drx3q",
        "outputId": "714979bf-012d-4011-c6be-c7a5bf76c2ee"
      },
      "source": [
        "import joblib\r\n",
        "joblib.dump(scaler,'iris_scaler.pkl')"
      ],
      "execution_count": 56,
      "outputs": [
        {
          "output_type": "execute_result",
          "data": {
            "text/plain": [
              "['iris_scaler.pkl']"
            ]
          },
          "metadata": {
            "tags": []
          },
          "execution_count": 56
        }
      ]
    },
    {
      "cell_type": "code",
      "metadata": {
        "id": "IgZwq82qrzky"
      },
      "source": [
        "from tensorflow.keras.models import load_model"
      ],
      "execution_count": 57,
      "outputs": []
    },
    {
      "cell_type": "code",
      "metadata": {
        "id": "kBdbxRW1sV_s"
      },
      "source": [
        "flower_model = load_model('my_model.h5')"
      ],
      "execution_count": 58,
      "outputs": []
    },
    {
      "cell_type": "code",
      "metadata": {
        "id": "W1SeQwXIsfrv"
      },
      "source": [
        "\r\n",
        "flower_scaler = joblib.load('iris_scaler.pkl')"
      ],
      "execution_count": 60,
      "outputs": []
    },
    {
      "cell_type": "code",
      "metadata": {
        "colab": {
          "base_uri": "https://localhost:8080/",
          "height": 106
        },
        "id": "d_SkZINnsrbG",
        "outputId": "8dc5f363-254b-4de0-81de-7a8ca617115a"
      },
      "source": [
        "df.head(2)"
      ],
      "execution_count": 61,
      "outputs": [
        {
          "output_type": "execute_result",
          "data": {
            "text/html": [
              "<div>\n",
              "<style scoped>\n",
              "    .dataframe tbody tr th:only-of-type {\n",
              "        vertical-align: middle;\n",
              "    }\n",
              "\n",
              "    .dataframe tbody tr th {\n",
              "        vertical-align: top;\n",
              "    }\n",
              "\n",
              "    .dataframe thead th {\n",
              "        text-align: right;\n",
              "    }\n",
              "</style>\n",
              "<table border=\"1\" class=\"dataframe\">\n",
              "  <thead>\n",
              "    <tr style=\"text-align: right;\">\n",
              "      <th></th>\n",
              "      <th>sepal_length</th>\n",
              "      <th>sepal_width</th>\n",
              "      <th>petal_length</th>\n",
              "      <th>petal_width</th>\n",
              "      <th>species</th>\n",
              "    </tr>\n",
              "  </thead>\n",
              "  <tbody>\n",
              "    <tr>\n",
              "      <th>0</th>\n",
              "      <td>5.1</td>\n",
              "      <td>3.5</td>\n",
              "      <td>1.4</td>\n",
              "      <td>0.2</td>\n",
              "      <td>setosa</td>\n",
              "    </tr>\n",
              "    <tr>\n",
              "      <th>1</th>\n",
              "      <td>4.9</td>\n",
              "      <td>3.0</td>\n",
              "      <td>1.4</td>\n",
              "      <td>0.2</td>\n",
              "      <td>setosa</td>\n",
              "    </tr>\n",
              "  </tbody>\n",
              "</table>\n",
              "</div>"
            ],
            "text/plain": [
              "   sepal_length  sepal_width  petal_length  petal_width species\n",
              "0           5.1          3.5           1.4          0.2  setosa\n",
              "1           4.9          3.0           1.4          0.2  setosa"
            ]
          },
          "metadata": {
            "tags": []
          },
          "execution_count": 61
        }
      ]
    },
    {
      "cell_type": "code",
      "metadata": {
        "id": "Fwv1M6UetrwO"
      },
      "source": [
        "flower_example = {'sepal_length':5.1,\r\n",
        "                  'sepal_width':3.5,\r\n",
        "                  'petal_length':1.4,\r\n",
        "                  'petal_width':0.2}"
      ],
      "execution_count": 67,
      "outputs": []
    },
    {
      "cell_type": "code",
      "metadata": {
        "colab": {
          "base_uri": "https://localhost:8080/"
        },
        "id": "QBNWeDx9vyGA",
        "outputId": "467ecf09-b593-4a2c-840a-eb82c00f646b"
      },
      "source": [
        "encoder.classes_"
      ],
      "execution_count": 64,
      "outputs": [
        {
          "output_type": "execute_result",
          "data": {
            "text/plain": [
              "array(['setosa', 'versicolor', 'virginica'], dtype='<U10')"
            ]
          },
          "metadata": {
            "tags": []
          },
          "execution_count": 64
        }
      ]
    },
    {
      "cell_type": "code",
      "metadata": {
        "id": "4T35w3QYuDu3"
      },
      "source": [
        "def return_predictions(model,scaler,sample_json):\r\n",
        "\r\n",
        "  s_len = sample_json['sepal_length']\r\n",
        "  s_wid = sample_json['sepal_width']\r\n",
        "  p_len = sample_json['petal_length']\r\n",
        "  p_wid = sample_json['petal_width']\r\n",
        "\r\n",
        "  flower = [[s_len,s_wid,p_len,p_wid]]\r\n",
        "\r\n",
        "  scaler = scaler.transform(flower)\r\n",
        "\r\n",
        "  classes = np.array(['setosa', 'versicolor', 'virginica'])\r\n",
        "\r\n",
        "  class_ind = model.predict_classes(scaler)\r\n",
        "\r\n",
        "  return classes[class_ind[0]]"
      ],
      "execution_count": 82,
      "outputs": []
    },
    {
      "cell_type": "code",
      "metadata": {
        "id": "8moJS8f6w8j6"
      },
      "source": [
        ""
      ],
      "execution_count": 80,
      "outputs": []
    },
    {
      "cell_type": "code",
      "metadata": {
        "colab": {
          "base_uri": "https://localhost:8080/",
          "height": 35
        },
        "id": "KWcyX8SFwUXN",
        "outputId": "96089317-03c2-431f-9bc2-52739c4ec3ff"
      },
      "source": [
        "return_predictions(flower_model,flower_scaler,flower_example)"
      ],
      "execution_count": 83,
      "outputs": [
        {
          "output_type": "execute_result",
          "data": {
            "application/vnd.google.colaboratory.intrinsic+json": {
              "type": "string"
            },
            "text/plain": [
              "'setosa'"
            ]
          },
          "metadata": {
            "tags": []
          },
          "execution_count": 83
        }
      ]
    },
    {
      "cell_type": "markdown",
      "metadata": {
        "id": "lGi7ySYcxyPm"
      },
      "source": [
        "**Code for deployment**"
      ]
    },
    {
      "cell_type": "code",
      "metadata": {
        "id": "4qLJQLtkx5th"
      },
      "source": [
        "from tensorflow.keras.models import load_model\r\n",
        "import numpy as np\r\n",
        "import joblib\r\n",
        "\r\n",
        "flower_model = load_model('my_model.h5')\r\n",
        "flower_scaler = joblib.load('iris_scaler.pkl')\r\n",
        "\r\n",
        "def return_predictions(model,scaler,sample_json):\r\n",
        "\r\n",
        "  s_len = sample_json['sepal_length']\r\n",
        "  s_wid = sample_json['sepal_width']\r\n",
        "  p_len = sample_json['petal_length']\r\n",
        "  p_wid = sample_json['petal_width']\r\n",
        "\r\n",
        "  flower = [[s_len,s_wid,p_len,p_wid]]\r\n",
        "\r\n",
        "  scaler = scaler.transform(flower)\r\n",
        "\r\n",
        "  classes = np.array(['setosa', 'versicolor', 'virginica'])\r\n",
        "\r\n",
        "  class_ind = model.predict_classes(scaler)\r\n",
        "\r\n",
        "  return classes[class_ind[0]]"
      ],
      "execution_count": 84,
      "outputs": []
    },
    {
      "cell_type": "code",
      "metadata": {
        "id": "u2F9aCfByFyC"
      },
      "source": [
        ""
      ],
      "execution_count": null,
      "outputs": []
    }
  ]
}